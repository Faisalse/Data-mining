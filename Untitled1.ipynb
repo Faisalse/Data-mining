{
 "cells": [
  {
   "cell_type": "code",
   "execution_count": 19,
   "metadata": {},
   "outputs": [],
   "source": [
    "class Bill():\n",
    "    def _init__(self,apples,figs,dates):\n",
    "        self.apples = apples\n",
    "        self.figs = figs\n",
    "        self.dates = dates\n",
    "        self.bill = apples + figs + dates\n",
    "        "
   ]
  },
  {
   "cell_type": "code",
   "execution_count": 20,
   "metadata": {},
   "outputs": [],
   "source": [
    "c = Bill(2,3,4)"
   ]
  },
  {
   "cell_type": "code",
   "execution_count": 23,
   "metadata": {},
   "outputs": [
    {
     "data": {
      "text/plain": [
       "4"
      ]
     },
     "execution_count": 23,
     "metadata": {},
     "output_type": "execute_result"
    }
   ],
   "source": [
    "c.dates"
   ]
  },
  {
   "cell_type": "code",
   "execution_count": 29,
   "metadata": {},
   "outputs": [
    {
     "name": "stdout",
     "output_type": "stream",
     "text": [
      "Input unsorted array :  [2 0 1 5 4 1 9]\n",
      "Output sorted array indices :  [6 3 4 0 5 2 1]\n",
      "Output sorted array :  [9 5 4 2 1 1 0]\n"
     ]
    }
   ],
   "source": [
    "import numpy as geek \n",
    "\n",
    "# input array \n",
    "in_arr = geek.array([ 2, 0, 1, 5, 4, 1, 9]) \n",
    "print (\"Input unsorted array : \", in_arr) \n",
    "\n",
    "out_arr = geek.argsort(in_arr)[::-1]\n",
    "print (\"Output sorted array indices : \", out_arr) \n",
    "print(\"Output sorted array : \", in_arr[out_arr]) \n"
   ]
  },
  {
   "cell_type": "code",
   "execution_count": null,
   "metadata": {},
   "outputs": [],
   "source": []
  }
 ],
 "metadata": {
  "kernelspec": {
   "display_name": "Python 3",
   "language": "python",
   "name": "python3"
  },
  "language_info": {
   "codemirror_mode": {
    "name": "ipython",
    "version": 3
   },
   "file_extension": ".py",
   "mimetype": "text/x-python",
   "name": "python",
   "nbconvert_exporter": "python",
   "pygments_lexer": "ipython3",
   "version": "3.6.10"
  }
 },
 "nbformat": 4,
 "nbformat_minor": 4
}
