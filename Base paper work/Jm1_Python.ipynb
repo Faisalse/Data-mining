{
 "cells": [
  {
   "cell_type": "code",
   "execution_count": 1,
   "metadata": {},
   "outputs": [],
   "source": [
    "import numpy as np\n",
    "import pandas as pd\n",
    "import matplotlib.pyplot as plt"
   ]
  },
  {
   "cell_type": "code",
   "execution_count": 17,
   "metadata": {},
   "outputs": [],
   "source": [
    "class PCA():\n",
    "    def __init__(self, n_components):\n",
    "        self.n_components = n_components\n",
    "        self.components = None\n",
    "        self.mean = None\n",
    "        self.eigenValues = None\n",
    "        self.cov_variance = None\n",
    "    \n",
    "    \n",
    "    def fit(self, X):\n",
    "        self.mean = np.mean(X, axis = 0)\n",
    "        X = X - self.mean\n",
    "        \n",
    "        # co-varinace\n",
    "        \n",
    "        cov = np.cov(X.T)\n",
    "        self.cov_variance = cov\n",
    "        # eigen valuee, eigenvectors\n",
    "        eigenvalues, eigenvectors = np.linalg.eig(cov)\n",
    "        self.eigenValues = eigenvalues\n",
    "        eigenvectors = eigenvectors\n",
    "        \n",
    "        idxs = np.argsort(eigenvalues)[::-1]\n",
    "        eigenvalues = eigenvalues[idxs]\n",
    "        \n",
    "        eigenvectors = eigenvectors[idxs]\n",
    "        \n",
    "        \n",
    "        \n",
    "        # store first n eigen vector\n",
    "        self.components = eigenvectors[0:self.n_components]\n",
    "    \n",
    "    def transform(self, X):\n",
    "        X = X - self.mean\n",
    "        return np.dot(X, self.components.T)\n"
   ]
  },
  {
   "cell_type": "markdown",
   "metadata": {},
   "source": [
    "# Dataset Implementation"
   ]
  },
  {
   "cell_type": "code",
   "execution_count": 18,
   "metadata": {},
   "outputs": [],
   "source": [
    "# upload KC1 Dataset\n",
    "jm1 = pd.read_csv(\"Dataset/jm1.csv\")"
   ]
  },
  {
   "cell_type": "code",
   "execution_count": 19,
   "metadata": {},
   "outputs": [
    {
     "name": "stdout",
     "output_type": "stream",
     "text": [
      "<class 'pandas.core.frame.DataFrame'>\n",
      "RangeIndex: 10885 entries, 0 to 10884\n",
      "Data columns (total 22 columns):\n",
      " #   Column             Non-Null Count  Dtype  \n",
      "---  ------             --------------  -----  \n",
      " 0   loc                10885 non-null  float64\n",
      " 1   v(g)               10885 non-null  float64\n",
      " 2   ev(g)              10885 non-null  float64\n",
      " 3   iv(g)              10885 non-null  float64\n",
      " 4   n                  10885 non-null  float64\n",
      " 5   v                  10885 non-null  float64\n",
      " 6   l                  10885 non-null  float64\n",
      " 7   d                  10885 non-null  float64\n",
      " 8   i                  10885 non-null  float64\n",
      " 9   e                  10885 non-null  float64\n",
      " 10  b                  10885 non-null  float64\n",
      " 11  t                  10885 non-null  float64\n",
      " 12  lOCode             10885 non-null  int64  \n",
      " 13  lOComment          10885 non-null  int64  \n",
      " 14  lOBlank            10885 non-null  int64  \n",
      " 15  locCodeAndComment  10885 non-null  int64  \n",
      " 16  uniq_Op            10885 non-null  object \n",
      " 17  uniq_Opnd          10885 non-null  object \n",
      " 18  total_Op           10885 non-null  object \n",
      " 19  total_Opnd         10885 non-null  object \n",
      " 20  branchCount        10885 non-null  object \n",
      " 21  defects            10885 non-null  bool   \n",
      "dtypes: bool(1), float64(12), int64(4), object(5)\n",
      "memory usage: 1.8+ MB\n"
     ]
    }
   ],
   "source": [
    "jm1.info()"
   ]
  },
  {
   "cell_type": "code",
   "execution_count": null,
   "metadata": {},
   "outputs": [],
   "source": []
  },
  {
   "cell_type": "code",
   "execution_count": 20,
   "metadata": {},
   "outputs": [],
   "source": [
    "indexNames = jm1[ jm1['uniq_Opnd'] == \"?\" ].index\n",
    "jm1.drop(indexNames , inplace=True)"
   ]
  },
  {
   "cell_type": "code",
   "execution_count": 21,
   "metadata": {},
   "outputs": [],
   "source": [
    "indexNames = jm1[ jm1['total_Op'] == \"?\" ].index\n",
    "jm1.drop(indexNames , inplace=True)"
   ]
  },
  {
   "cell_type": "code",
   "execution_count": 22,
   "metadata": {},
   "outputs": [],
   "source": [
    "indexNames = jm1[ jm1['total_Opnd'] == \"?\" ].index\n",
    "jm1.drop(indexNames , inplace=True)"
   ]
  },
  {
   "cell_type": "code",
   "execution_count": 23,
   "metadata": {},
   "outputs": [],
   "source": [
    "indexNames = jm1[ jm1['branchCount'] == \"?\" ].index\n",
    "jm1.drop(indexNames , inplace=True)"
   ]
  },
  {
   "cell_type": "code",
   "execution_count": 24,
   "metadata": {},
   "outputs": [
    {
     "data": {
      "text/plain": [
       "(10880, 22)"
      ]
     },
     "execution_count": 24,
     "metadata": {},
     "output_type": "execute_result"
    }
   ],
   "source": [
    "jm1.shape"
   ]
  },
  {
   "cell_type": "code",
   "execution_count": 25,
   "metadata": {},
   "outputs": [],
   "source": [
    "jm1[\"branchCount\"] = jm1[\"branchCount\"].astype(str).astype(float)"
   ]
  },
  {
   "cell_type": "code",
   "execution_count": 26,
   "metadata": {},
   "outputs": [],
   "source": [
    "jm1[\"uniq_Op\"] = jm1[\"uniq_Op\"].astype(str).astype(float)\n",
    "jm1[\"uniq_Opnd\"] = jm1[\"uniq_Opnd\"].astype(str).astype(float)\n",
    "jm1[\"total_Op\"] = jm1[\"total_Op\"].astype(str).astype(float)\n",
    "jm1[\"total_Opnd\"] = jm1[\"total_Opnd\"].astype(str).astype(float)"
   ]
  },
  {
   "cell_type": "code",
   "execution_count": 27,
   "metadata": {},
   "outputs": [
    {
     "name": "stdout",
     "output_type": "stream",
     "text": [
      "<class 'pandas.core.frame.DataFrame'>\n",
      "Int64Index: 10880 entries, 0 to 10884\n",
      "Data columns (total 22 columns):\n",
      " #   Column             Non-Null Count  Dtype  \n",
      "---  ------             --------------  -----  \n",
      " 0   loc                10880 non-null  float64\n",
      " 1   v(g)               10880 non-null  float64\n",
      " 2   ev(g)              10880 non-null  float64\n",
      " 3   iv(g)              10880 non-null  float64\n",
      " 4   n                  10880 non-null  float64\n",
      " 5   v                  10880 non-null  float64\n",
      " 6   l                  10880 non-null  float64\n",
      " 7   d                  10880 non-null  float64\n",
      " 8   i                  10880 non-null  float64\n",
      " 9   e                  10880 non-null  float64\n",
      " 10  b                  10880 non-null  float64\n",
      " 11  t                  10880 non-null  float64\n",
      " 12  lOCode             10880 non-null  int64  \n",
      " 13  lOComment          10880 non-null  int64  \n",
      " 14  lOBlank            10880 non-null  int64  \n",
      " 15  locCodeAndComment  10880 non-null  int64  \n",
      " 16  uniq_Op            10880 non-null  float64\n",
      " 17  uniq_Opnd          10880 non-null  float64\n",
      " 18  total_Op           10880 non-null  float64\n",
      " 19  total_Opnd         10880 non-null  float64\n",
      " 20  branchCount        10880 non-null  float64\n",
      " 21  defects            10880 non-null  bool   \n",
      "dtypes: bool(1), float64(17), int64(4)\n",
      "memory usage: 1.8 MB\n"
     ]
    }
   ],
   "source": [
    "jm1.info()    "
   ]
  },
  {
   "cell_type": "code",
   "execution_count": null,
   "metadata": {},
   "outputs": [],
   "source": []
  },
  {
   "cell_type": "code",
   "execution_count": 28,
   "metadata": {},
   "outputs": [],
   "source": [
    "X = jm1.iloc[:,:-1]"
   ]
  },
  {
   "cell_type": "code",
   "execution_count": 29,
   "metadata": {},
   "outputs": [],
   "source": [
    "Y = jm1.iloc[:,-1]"
   ]
  },
  {
   "cell_type": "code",
   "execution_count": 30,
   "metadata": {},
   "outputs": [],
   "source": [
    "# Label encoding\n",
    "from sklearn.preprocessing import LabelEncoder\n",
    "labelencoder_X_1 = LabelEncoder()\n",
    "y = labelencoder_X_1.fit_transform(Y)"
   ]
  },
  {
   "cell_type": "code",
   "execution_count": 31,
   "metadata": {},
   "outputs": [
    {
     "data": {
      "text/plain": [
       "(10880,)"
      ]
     },
     "execution_count": 31,
     "metadata": {},
     "output_type": "execute_result"
    }
   ],
   "source": [
    "#checking shape\n",
    "y.shape"
   ]
  },
  {
   "cell_type": "code",
   "execution_count": 39,
   "metadata": {},
   "outputs": [],
   "source": [
    "from sklearn.preprocessing import StandardScaler\n",
    "x_std = StandardScaler().fit_transform(X)"
   ]
  },
  {
   "cell_type": "code",
   "execution_count": 41,
   "metadata": {},
   "outputs": [],
   "source": [
    "# create instance of PCA class\n",
    "pca = PCA(8)"
   ]
  },
  {
   "cell_type": "code",
   "execution_count": 44,
   "metadata": {},
   "outputs": [],
   "source": [
    "pca.fit(x_std)\n",
    "x_tranformData = pca.transform(x_std)"
   ]
  },
  {
   "cell_type": "code",
   "execution_count": 45,
   "metadata": {},
   "outputs": [
    {
     "data": {
      "text/plain": [
       "21"
      ]
     },
     "execution_count": 45,
     "metadata": {},
     "output_type": "execute_result"
    }
   ],
   "source": [
    "# check eigen values.. CO-Varaince (21/21) ...So 21 eigen values\n",
    "pca.eigenValues.size"
   ]
  },
  {
   "cell_type": "code",
   "execution_count": 46,
   "metadata": {},
   "outputs": [],
   "source": [
    "# Check the Eigen value variance\n",
    "ab =  pca.eigenValues / pca.eigenValues.sum()"
   ]
  },
  {
   "cell_type": "code",
   "execution_count": 47,
   "metadata": {},
   "outputs": [
    {
     "name": "stdout",
     "output_type": "stream",
     "text": [
      "[6.4659e-01 7.7950e-02 6.2360e-02 4.5860e-02 3.9520e-02 3.5870e-02\n",
      " 2.7970e-02 1.9630e-02 1.3030e-02 1.0070e-02 7.6600e-03 5.7800e-03\n",
      " 2.8900e-03 1.7000e-03 1.7600e-03 7.2000e-04 4.1000e-04 1.9000e-04\n",
      " 1.0000e-05 1.0000e-05 0.0000e+00]\n"
     ]
    }
   ],
   "source": [
    "# First two components capture the maximum variance\n",
    "print(ab.round(5))"
   ]
  },
  {
   "cell_type": "code",
   "execution_count": null,
   "metadata": {},
   "outputs": [],
   "source": []
  },
  {
   "cell_type": "code",
   "execution_count": 52,
   "metadata": {},
   "outputs": [],
   "source": [
    "a = pca.cov_variance"
   ]
  },
  {
   "cell_type": "code",
   "execution_count": 53,
   "metadata": {},
   "outputs": [
    {
     "data": {
      "text/plain": [
       "441"
      ]
     },
     "execution_count": 53,
     "metadata": {},
     "output_type": "execute_result"
    }
   ],
   "source": [
    "np.size(a)"
   ]
  },
  {
   "cell_type": "code",
   "execution_count": null,
   "metadata": {},
   "outputs": [],
   "source": []
  }
 ],
 "metadata": {
  "kernelspec": {
   "display_name": "Python 3",
   "language": "python",
   "name": "python3"
  },
  "language_info": {
   "codemirror_mode": {
    "name": "ipython",
    "version": 3
   },
   "file_extension": ".py",
   "mimetype": "text/x-python",
   "name": "python",
   "nbconvert_exporter": "python",
   "pygments_lexer": "ipython3",
   "version": "3.6.10"
  }
 },
 "nbformat": 4,
 "nbformat_minor": 4
}
