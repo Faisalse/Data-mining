{
 "cells": [
  {
   "cell_type": "code",
   "execution_count": 1,
   "metadata": {},
   "outputs": [],
   "source": [
    "import numpy as np\n",
    "import pandas as pd\n",
    "import matplotlib.pyplot as plt"
   ]
  },
  {
   "cell_type": "code",
   "execution_count": 71,
   "metadata": {},
   "outputs": [],
   "source": [
    "class PCA():\n",
    "    def __init__(self, n_components):\n",
    "        self.n_components = n_components\n",
    "        self.components = None\n",
    "        self.mean = None\n",
    "        self.eigenValues = None\n",
    "    \n",
    "    \n",
    "    def fit(self, X):\n",
    "        self.mean = np.mean(X, axis = 0)\n",
    "        X = X - self.mean\n",
    "        \n",
    "        # co-varinace\n",
    "        \n",
    "        cov = np.cov(X.T)\n",
    "        \n",
    "        # eigen valuee, eigenvectors\n",
    "        eigenvalues, eigenvectors = np.linalg.eig(cov)\n",
    "        self.eigenValues = eigenvalues\n",
    "        eigenvectors = eigenvectors\n",
    "        \n",
    "        idxs = np.argsort(eigenvalues)[::-1]\n",
    "        eigenvalues = eigenvalues[idxs]\n",
    "        eigenvectors = eigenvectors[idxs]\n",
    "        \n",
    "        \n",
    "        \n",
    "        # store first n eigen vector\n",
    "        self.components = eigenvectors[0:self.n_components]\n",
    "    \n",
    "    def transform(self, X):\n",
    "        X = X - self.mean\n",
    "        return np.dot(X, self.components.T)\n"
   ]
  },
  {
   "cell_type": "markdown",
   "metadata": {},
   "source": [
    "# Dataset Implementation"
   ]
  },
  {
   "cell_type": "code",
   "execution_count": 72,
   "metadata": {},
   "outputs": [],
   "source": [
    "# upload KC1 Dataset\n",
    "pc3 = pd.read_csv(\"Dataset/pc3.csv\")"
   ]
  },
  {
   "cell_type": "code",
   "execution_count": 73,
   "metadata": {},
   "outputs": [
    {
     "data": {
      "text/plain": [
       "(1563, 38)"
      ]
     },
     "execution_count": 73,
     "metadata": {},
     "output_type": "execute_result"
    }
   ],
   "source": [
    "pc3.shape"
   ]
  },
  {
   "cell_type": "code",
   "execution_count": 74,
   "metadata": {},
   "outputs": [
    {
     "name": "stdout",
     "output_type": "stream",
     "text": [
      "<class 'pandas.core.frame.DataFrame'>\n",
      "RangeIndex: 1563 entries, 0 to 1562\n",
      "Data columns (total 38 columns):\n",
      " #   Column                           Non-Null Count  Dtype  \n",
      "---  ------                           --------------  -----  \n",
      " 0   LOC_BLANK                        1563 non-null   int64  \n",
      " 1   BRANCH_COUNT                     1563 non-null   int64  \n",
      " 2   CALL_PAIRS                       1563 non-null   int64  \n",
      " 3   LOC_CODE_AND_COMMENT             1563 non-null   int64  \n",
      " 4   LOC_COMMENTS                     1563 non-null   int64  \n",
      " 5   CONDITION_COUNT                  1563 non-null   int64  \n",
      " 6   CYCLOMATIC_COMPLEXITY            1563 non-null   int64  \n",
      " 7   CYCLOMATIC_DENSITY               1563 non-null   float64\n",
      " 8   DECISION_COUNT                   1563 non-null   int64  \n",
      " 9   DECISION_DENSITY                 1563 non-null   float64\n",
      " 10  DESIGN_COMPLEXITY                1563 non-null   int64  \n",
      " 11  DESIGN_DENSITY                   1563 non-null   float64\n",
      " 12  EDGE_COUNT                       1563 non-null   int64  \n",
      " 13  ESSENTIAL_COMPLEXITY             1563 non-null   int64  \n",
      " 14  ESSENTIAL_DENSITY                1563 non-null   float64\n",
      " 15  LOC_EXECUTABLE                   1563 non-null   int64  \n",
      " 16  PARAMETER_COUNT                  1563 non-null   int64  \n",
      " 17  HALSTEAD_CONTENT                 1563 non-null   float64\n",
      " 18  HALSTEAD_DIFFICULTY              1563 non-null   float64\n",
      " 19  HALSTEAD_EFFORT                  1563 non-null   float64\n",
      " 20  HALSTEAD_ERROR_EST               1563 non-null   float64\n",
      " 21  HALSTEAD_LENGTH                  1563 non-null   int64  \n",
      " 22  HALSTEAD_LEVEL                   1563 non-null   float64\n",
      " 23  HALSTEAD_PROG_TIME               1563 non-null   float64\n",
      " 24  HALSTEAD_VOLUME                  1563 non-null   float64\n",
      " 25  MAINTENANCE_SEVERITY             1563 non-null   float64\n",
      " 26  MODIFIED_CONDITION_COUNT         1563 non-null   int64  \n",
      " 27  MULTIPLE_CONDITION_COUNT         1563 non-null   int64  \n",
      " 28  NODE_COUNT                       1563 non-null   int64  \n",
      " 29  NORMALIZED_CYLOMATIC_COMPLEXITY  1563 non-null   float64\n",
      " 30  NUM_OPERANDS                     1563 non-null   int64  \n",
      " 31  NUM_OPERATORS                    1563 non-null   int64  \n",
      " 32  NUM_UNIQUE_OPERANDS              1563 non-null   int64  \n",
      " 33  NUM_UNIQUE_OPERATORS             1563 non-null   int64  \n",
      " 34  NUMBER_OF_LINES                  1563 non-null   int64  \n",
      " 35  PERCENT_COMMENTS                 1563 non-null   float64\n",
      " 36  LOC_TOTAL                        1563 non-null   int64  \n",
      " 37  c                                1563 non-null   bool   \n",
      "dtypes: bool(1), float64(14), int64(23)\n",
      "memory usage: 453.5 KB\n"
     ]
    }
   ],
   "source": [
    "pc3.info()"
   ]
  },
  {
   "cell_type": "code",
   "execution_count": 75,
   "metadata": {},
   "outputs": [],
   "source": [
    "X = pc3.iloc[:,:-1]"
   ]
  },
  {
   "cell_type": "code",
   "execution_count": 76,
   "metadata": {},
   "outputs": [],
   "source": [
    "Y = pc3.iloc[:,-1]"
   ]
  },
  {
   "cell_type": "code",
   "execution_count": null,
   "metadata": {},
   "outputs": [],
   "source": []
  },
  {
   "cell_type": "code",
   "execution_count": null,
   "metadata": {},
   "outputs": [],
   "source": []
  },
  {
   "cell_type": "code",
   "execution_count": 77,
   "metadata": {},
   "outputs": [],
   "source": [
    "# Label encoding\n",
    "from sklearn.preprocessing import LabelEncoder\n",
    "labelencoder_X_1 = LabelEncoder()\n",
    "y = labelencoder_X_1.fit_transform(Y)"
   ]
  },
  {
   "cell_type": "code",
   "execution_count": 78,
   "metadata": {},
   "outputs": [
    {
     "data": {
      "text/plain": [
       "(1563,)"
      ]
     },
     "execution_count": 78,
     "metadata": {},
     "output_type": "execute_result"
    }
   ],
   "source": [
    "#checking shape\n",
    "y.shape"
   ]
  },
  {
   "cell_type": "code",
   "execution_count": 79,
   "metadata": {},
   "outputs": [],
   "source": [
    "from sklearn.preprocessing import StandardScaler\n",
    "x_std = StandardScaler().fit_transform(X)"
   ]
  },
  {
   "cell_type": "code",
   "execution_count": 80,
   "metadata": {},
   "outputs": [],
   "source": [
    "# create instance of PCA class\n",
    "pca = PCA(6)"
   ]
  },
  {
   "cell_type": "code",
   "execution_count": 81,
   "metadata": {},
   "outputs": [],
   "source": [
    "pca.fit(x_std)\n",
    "x_tranformData = pca.transform(x_std)"
   ]
  },
  {
   "cell_type": "code",
   "execution_count": 82,
   "metadata": {},
   "outputs": [
    {
     "data": {
      "text/plain": [
       "37"
      ]
     },
     "execution_count": 82,
     "metadata": {},
     "output_type": "execute_result"
    }
   ],
   "source": [
    "# check eigen values.. CO-Varaince (21/21) ...So 21 eigen values\n",
    "pca.eigenValues.size"
   ]
  },
  {
   "cell_type": "code",
   "execution_count": 84,
   "metadata": {},
   "outputs": [],
   "source": [
    "# Check the Eigen value variance\n",
    "ab =  (pca.eigenValues / pca.eigenValues.sum()) * 100"
   ]
  },
  {
   "cell_type": "code",
   "execution_count": 88,
   "metadata": {},
   "outputs": [
    {
     "data": {
      "text/plain": [
       "array([4.97302118e+01, 1.06470139e+01, 8.32875252e+00, 5.07270543e+00,\n",
       "       4.56665098e+00, 4.07323744e+00, 3.41866161e+00, 2.25926502e+00,\n",
       "       2.10203000e+00, 1.80567008e+00, 1.54888988e+00, 1.34408586e+00,\n",
       "       1.13255287e+00, 8.34253093e-01, 6.46610201e-01, 5.22135292e-01,\n",
       "       4.94543202e-01, 4.14539851e-01, 3.38659209e-01, 2.28329102e-01,\n",
       "       1.52102833e-01, 1.50361201e-01, 6.72959596e-02, 4.22137163e-02,\n",
       "       2.71461433e-02, 1.53591646e-02, 1.19692663e-02, 9.76999727e-03,\n",
       "       8.29902601e-03, 5.94315877e-03, 7.32067946e-04, 1.01197425e-05,\n",
       "       3.25074712e-14, 1.45990476e-15, 5.42057596e-17, 5.20943279e-16,\n",
       "       8.83438558e-16])"
      ]
     },
     "execution_count": 88,
     "metadata": {},
     "output_type": "execute_result"
    }
   ],
   "source": [
    "np.absolute(np.sort(-ab))"
   ]
  },
  {
   "cell_type": "code",
   "execution_count": null,
   "metadata": {},
   "outputs": [],
   "source": []
  },
  {
   "cell_type": "code",
   "execution_count": null,
   "metadata": {},
   "outputs": [],
   "source": []
  }
 ],
 "metadata": {
  "kernelspec": {
   "display_name": "Python 3",
   "language": "python",
   "name": "python3"
  },
  "language_info": {
   "codemirror_mode": {
    "name": "ipython",
    "version": 3
   },
   "file_extension": ".py",
   "mimetype": "text/x-python",
   "name": "python",
   "nbconvert_exporter": "python",
   "pygments_lexer": "ipython3",
   "version": "3.6.10"
  }
 },
 "nbformat": 4,
 "nbformat_minor": 4
}
